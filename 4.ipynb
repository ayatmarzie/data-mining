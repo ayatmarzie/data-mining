{
 "cells": [
  {
   "cell_type": "markdown",
   "id": "b3fcae46",
   "metadata": {},
   "source": [
    "###### k medoids :"
   ]
  },
  {
   "cell_type": "markdown",
   "id": "0d943832",
   "metadata": {},
   "source": [
    "###### به طور رسمی، K Medoids یک الگوریتم خوشه بندی است که پارتیشن مجموعه ای از نقاط داده در اطراف یک medoid (کمترین نقطه بی شباهت) و به طور مداوم تلاش برای کاهش بی شباهتی در میان نقاط در همان خوشه."
   ]
  },
  {
   "cell_type": "markdown",
   "id": "70535f91",
   "metadata": {},
   "source": [
    "###### kmeans : "
   ]
  },
  {
   "cell_type": "markdown",
   "id": "0cb02ab8",
   "metadata": {},
   "source": [
    "######  یکی از ساده ترین و محبوب ترین الگوریتم های خوشه بندی در علم داده است. داده ها را بر اساس نزدیکی آن به یکی از K به اصطلاح centroids تقسیم می کند - نقاط داده ای که میانگین تمام مشاهدات در خوشه هستند. مشاهده یک رکورد واحد از داده ها از یک فرمت خاص است."
   ]
  },
  {
   "cell_type": "code",
   "execution_count": 1,
   "id": "72eef0ee",
   "metadata": {},
   "outputs": [],
   "source": [
    "from sklearn.cluster import KMeans\n",
    "from sklearn_extra.cluster import KMedoids\n",
    "import pandas as pd\n",
    "import numpy as np\n",
    "import matplotlib.pyplot as plt"
   ]
  },
  {
   "cell_type": "code",
   "execution_count": 2,
   "id": "40373fce",
   "metadata": {},
   "outputs": [
    {
     "data": {
      "text/html": [
       "<div>\n",
       "<style scoped>\n",
       "    .dataframe tbody tr th:only-of-type {\n",
       "        vertical-align: middle;\n",
       "    }\n",
       "\n",
       "    .dataframe tbody tr th {\n",
       "        vertical-align: top;\n",
       "    }\n",
       "\n",
       "    .dataframe thead th {\n",
       "        text-align: right;\n",
       "    }\n",
       "</style>\n",
       "<table border=\"1\" class=\"dataframe\">\n",
       "  <thead>\n",
       "    <tr style=\"text-align: right;\">\n",
       "      <th></th>\n",
       "      <th>ID</th>\n",
       "      <th>Reason for absence</th>\n",
       "      <th>Month of absence</th>\n",
       "      <th>Day of the week</th>\n",
       "      <th>Seasons</th>\n",
       "      <th>Transportation expense</th>\n",
       "      <th>Distance from Residence to Work</th>\n",
       "      <th>Service time</th>\n",
       "      <th>Age</th>\n",
       "      <th>Work load Average/day</th>\n",
       "      <th>...</th>\n",
       "      <th>Disciplinary failure</th>\n",
       "      <th>Education</th>\n",
       "      <th>Son</th>\n",
       "      <th>Social drinker</th>\n",
       "      <th>Social smoker</th>\n",
       "      <th>Pet</th>\n",
       "      <th>Weight</th>\n",
       "      <th>Height</th>\n",
       "      <th>Body mass index</th>\n",
       "      <th>Absenteeism time in hours</th>\n",
       "    </tr>\n",
       "  </thead>\n",
       "  <tbody>\n",
       "    <tr>\n",
       "      <th>0</th>\n",
       "      <td>11</td>\n",
       "      <td>26.0</td>\n",
       "      <td>7.0</td>\n",
       "      <td>3</td>\n",
       "      <td>1</td>\n",
       "      <td>289.0</td>\n",
       "      <td>36.0</td>\n",
       "      <td>13.0</td>\n",
       "      <td>33.0</td>\n",
       "      <td>239554.0</td>\n",
       "      <td>...</td>\n",
       "      <td>0.0</td>\n",
       "      <td>1.0</td>\n",
       "      <td>2.0</td>\n",
       "      <td>1.0</td>\n",
       "      <td>0.0</td>\n",
       "      <td>1.0</td>\n",
       "      <td>90.0</td>\n",
       "      <td>172.0</td>\n",
       "      <td>30.0</td>\n",
       "      <td>4.0</td>\n",
       "    </tr>\n",
       "    <tr>\n",
       "      <th>1</th>\n",
       "      <td>36</td>\n",
       "      <td>0.0</td>\n",
       "      <td>7.0</td>\n",
       "      <td>3</td>\n",
       "      <td>1</td>\n",
       "      <td>118.0</td>\n",
       "      <td>13.0</td>\n",
       "      <td>18.0</td>\n",
       "      <td>50.0</td>\n",
       "      <td>239554.0</td>\n",
       "      <td>...</td>\n",
       "      <td>1.0</td>\n",
       "      <td>1.0</td>\n",
       "      <td>1.0</td>\n",
       "      <td>1.0</td>\n",
       "      <td>0.0</td>\n",
       "      <td>0.0</td>\n",
       "      <td>98.0</td>\n",
       "      <td>178.0</td>\n",
       "      <td>31.0</td>\n",
       "      <td>0.0</td>\n",
       "    </tr>\n",
       "    <tr>\n",
       "      <th>2</th>\n",
       "      <td>3</td>\n",
       "      <td>23.0</td>\n",
       "      <td>7.0</td>\n",
       "      <td>4</td>\n",
       "      <td>1</td>\n",
       "      <td>179.0</td>\n",
       "      <td>51.0</td>\n",
       "      <td>18.0</td>\n",
       "      <td>38.0</td>\n",
       "      <td>239554.0</td>\n",
       "      <td>...</td>\n",
       "      <td>0.0</td>\n",
       "      <td>1.0</td>\n",
       "      <td>0.0</td>\n",
       "      <td>1.0</td>\n",
       "      <td>0.0</td>\n",
       "      <td>0.0</td>\n",
       "      <td>89.0</td>\n",
       "      <td>170.0</td>\n",
       "      <td>31.0</td>\n",
       "      <td>2.0</td>\n",
       "    </tr>\n",
       "    <tr>\n",
       "      <th>3</th>\n",
       "      <td>7</td>\n",
       "      <td>7.0</td>\n",
       "      <td>7.0</td>\n",
       "      <td>5</td>\n",
       "      <td>1</td>\n",
       "      <td>279.0</td>\n",
       "      <td>5.0</td>\n",
       "      <td>14.0</td>\n",
       "      <td>39.0</td>\n",
       "      <td>239554.0</td>\n",
       "      <td>...</td>\n",
       "      <td>0.0</td>\n",
       "      <td>1.0</td>\n",
       "      <td>2.0</td>\n",
       "      <td>1.0</td>\n",
       "      <td>1.0</td>\n",
       "      <td>0.0</td>\n",
       "      <td>68.0</td>\n",
       "      <td>168.0</td>\n",
       "      <td>24.0</td>\n",
       "      <td>4.0</td>\n",
       "    </tr>\n",
       "    <tr>\n",
       "      <th>4</th>\n",
       "      <td>11</td>\n",
       "      <td>23.0</td>\n",
       "      <td>7.0</td>\n",
       "      <td>5</td>\n",
       "      <td>1</td>\n",
       "      <td>289.0</td>\n",
       "      <td>36.0</td>\n",
       "      <td>13.0</td>\n",
       "      <td>33.0</td>\n",
       "      <td>239554.0</td>\n",
       "      <td>...</td>\n",
       "      <td>0.0</td>\n",
       "      <td>1.0</td>\n",
       "      <td>2.0</td>\n",
       "      <td>1.0</td>\n",
       "      <td>0.0</td>\n",
       "      <td>1.0</td>\n",
       "      <td>90.0</td>\n",
       "      <td>172.0</td>\n",
       "      <td>30.0</td>\n",
       "      <td>2.0</td>\n",
       "    </tr>\n",
       "  </tbody>\n",
       "</table>\n",
       "<p>5 rows × 21 columns</p>\n",
       "</div>"
      ],
      "text/plain": [
       "   ID  Reason for absence  Month of absence  Day of the week  Seasons  \\\n",
       "0  11                26.0               7.0                3        1   \n",
       "1  36                 0.0               7.0                3        1   \n",
       "2   3                23.0               7.0                4        1   \n",
       "3   7                 7.0               7.0                5        1   \n",
       "4  11                23.0               7.0                5        1   \n",
       "\n",
       "   Transportation expense  Distance from Residence to Work  Service time  \\\n",
       "0                   289.0                             36.0          13.0   \n",
       "1                   118.0                             13.0          18.0   \n",
       "2                   179.0                             51.0          18.0   \n",
       "3                   279.0                              5.0          14.0   \n",
       "4                   289.0                             36.0          13.0   \n",
       "\n",
       "    Age  Work load Average/day   ...  Disciplinary failure  Education  Son  \\\n",
       "0  33.0                239554.0  ...                   0.0        1.0  2.0   \n",
       "1  50.0                239554.0  ...                   1.0        1.0  1.0   \n",
       "2  38.0                239554.0  ...                   0.0        1.0  0.0   \n",
       "3  39.0                239554.0  ...                   0.0        1.0  2.0   \n",
       "4  33.0                239554.0  ...                   0.0        1.0  2.0   \n",
       "\n",
       "   Social drinker  Social smoker  Pet  Weight  Height  Body mass index  \\\n",
       "0             1.0            0.0  1.0    90.0   172.0             30.0   \n",
       "1             1.0            0.0  0.0    98.0   178.0             31.0   \n",
       "2             1.0            0.0  0.0    89.0   170.0             31.0   \n",
       "3             1.0            1.0  0.0    68.0   168.0             24.0   \n",
       "4             1.0            0.0  1.0    90.0   172.0             30.0   \n",
       "\n",
       "   Absenteeism time in hours  \n",
       "0                        4.0  \n",
       "1                        0.0  \n",
       "2                        2.0  \n",
       "3                        4.0  \n",
       "4                        2.0  \n",
       "\n",
       "[5 rows x 21 columns]"
      ]
     },
     "execution_count": 2,
     "metadata": {},
     "output_type": "execute_result"
    }
   ],
   "source": [
    "df=pd.read_excel('Absenteeism_at_work_Project.xlsx')\n",
    "df.head()"
   ]
  },
  {
   "cell_type": "code",
   "execution_count": 3,
   "id": "b58467a8",
   "metadata": {},
   "outputs": [],
   "source": [
    "from sklearn.impute import KNNImputer\n",
    "for i,val in enumerate(df.isnull().sum()):\n",
    "    if val != 0:\n",
    "        name=df.columns[i]\n",
    "        imp=KNNImputer()\n",
    "        df[name]=imp.fit_transform(df[[name]])"
   ]
  },
  {
   "cell_type": "code",
   "execution_count": 4,
   "id": "d3f1d214",
   "metadata": {},
   "outputs": [],
   "source": [
    "df['Absenteeism time in hours']=df['Absenteeism time in hours'].apply(lambda x: 0 if x<24 else 1)"
   ]
  },
  {
   "cell_type": "code",
   "execution_count": 5,
   "id": "31faf393",
   "metadata": {},
   "outputs": [],
   "source": [
    "x=df.drop('Absenteeism time in hours',axis=1)\n",
    "y=np.array(df['Absenteeism time in hours']).flatten()"
   ]
  },
  {
   "cell_type": "code",
   "execution_count": 6,
   "id": "83ace532",
   "metadata": {},
   "outputs": [],
   "source": [
    "from sklearn.model_selection import cross_val_score,train_test_split\n",
    "from sklearn.ensemble import RandomForestClassifier\n",
    "xtrain,xvalid,ytrain,yvalid=train_test_split(x,y,random_state=44)"
   ]
  },
  {
   "cell_type": "code",
   "execution_count": 7,
   "id": "74b779bc",
   "metadata": {},
   "outputs": [
    {
     "name": "stderr",
     "output_type": "stream",
     "text": [
      "D:\\file\\anacoda\\lib\\site-packages\\sklearn\\cluster\\_kmeans.py:1036: UserWarning: KMeans is known to have a memory leak on Windows with MKL, when there are less chunks than available threads. You can avoid it by setting the environment variable OMP_NUM_THREADS=3.\n",
      "  warnings.warn(\n"
     ]
    }
   ],
   "source": [
    "inerth=[]\n",
    "for i in range(1,15):\n",
    "    model=KMeans(n_clusters=i)\n",
    "    model.fit(xtrain)\n",
    "    inerth.append(model.inertia_)"
   ]
  },
  {
   "cell_type": "code",
   "execution_count": 8,
   "id": "923629ac",
   "metadata": {},
   "outputs": [
    {
     "data": {
      "text/plain": [
       "[<matplotlib.lines.Line2D at 0x29d84bcc100>]"
      ]
     },
     "execution_count": 8,
     "metadata": {},
     "output_type": "execute_result"
    },
    {
     "data": {
      "image/png": "[encoded data removed]",
      "text/plain": [
       "<Figure size 432x288 with 1 Axes>"
      ]
     },
     "metadata": {
      "needs_background": "light"
     },
     "output_type": "display_data"
    }
   ],
   "source": [
    "plt.title('Elbow plot')\n",
    "plt.gca()\n",
    "plt.plot(range(1,15),inerth,c='g')"
   ]
  },
  {
   "cell_type": "code",
   "execution_count": 9,
   "id": "1d1f5a0e",
   "metadata": {},
   "outputs": [],
   "source": [
    "from sklearn.metrics import adjusted_rand_score ,classification_report"
   ]
  },
  {
   "cell_type": "code",
   "execution_count": 10,
   "id": "29ab1a09",
   "metadata": {},
   "outputs": [
    {
     "data": {
      "text/plain": [
       "0.012304665655812126"
      ]
     },
     "execution_count": 10,
     "metadata": {},
     "output_type": "execute_result"
    }
   ],
   "source": [
    "model=KMeans(n_clusters=4)\n",
    "model.fit(xtrain)\n",
    "adjusted_rand_score(yvalid,model.predict(xvalid))"
   ]
  },
  {
   "cell_type": "code",
   "execution_count": 11,
   "id": "f50adfc2",
   "metadata": {},
   "outputs": [
    {
     "data": {
      "text/plain": [
       "0.005219577569346943"
      ]
     },
     "execution_count": 11,
     "metadata": {},
     "output_type": "execute_result"
    }
   ],
   "source": [
    "model2=KMedoids(n_clusters=4)\n",
    "model2.fit(xtrain)\n",
    "adjusted_rand_score(yvalid,model2.predict(xvalid))"
   ]
  },
  {
   "cell_type": "code",
   "execution_count": 12,
   "id": "e3c5baa4",
   "metadata": {},
   "outputs": [],
   "source": [
    "from sklearn.decomposition import PCA"
   ]
  },
  {
   "cell_type": "code",
   "execution_count": 13,
   "id": "0c51acac",
   "metadata": {},
   "outputs": [],
   "source": [
    "pca=PCA(n_components=2)\n",
    "x=pca.fit_transform(x)"
   ]
  },
  {
   "cell_type": "code",
   "execution_count": 22,
   "id": "d09bdfb5",
   "metadata": {},
   "outputs": [
    {
     "data": {
      "text/plain": [
       "<matplotlib.collections.PathCollection at 0x29d83caca60>"
      ]
     },
     "execution_count": 22,
     "metadata": {},
     "output_type": "execute_result"
    },
    {
     "data": {
      "image/png": "[encoded data removed]",
      "text/plain": [
       "<Figure size 432x288 with 1 Axes>"
      ]
     },
     "metadata": {
      "needs_background": "light"
     },
     "output_type": "display_data"
    }
   ],
   "source": [
    "plt.scatter(x[:,0],x[:,1],c=y)"
   ]
  },
  {
   "cell_type": "code",
   "execution_count": 15,
   "id": "a7037ba8",
   "metadata": {},
   "outputs": [],
   "source": [
    "xtrain,xvalid,ytrain,yvalid=train_test_split(x,y,random_state=44)"
   ]
  },
  {
   "cell_type": "code",
   "execution_count": 16,
   "id": "2b266b48",
   "metadata": {},
   "outputs": [],
   "source": [
    "rnf=RandomForestClassifier()\n",
    "rnf.fit(xtrain,ytrain)\n",
    "ypreRnf=rnf.predict(xvalid)"
   ]
  },
  {
   "cell_type": "code",
   "execution_count": 17,
   "id": "05117369",
   "metadata": {},
   "outputs": [
    {
     "name": "stdout",
     "output_type": "stream",
     "text": [
      "              precision    recall  f1-score   support\n",
      "\n",
      "           0       0.96      0.98      0.97       177\n",
      "           1       0.00      0.00      0.00         8\n",
      "\n",
      "    accuracy                           0.94       185\n",
      "   macro avg       0.48      0.49      0.48       185\n",
      "weighted avg       0.91      0.94      0.93       185\n",
      "\n"
     ]
    }
   ],
   "source": [
    "print(classification_report(yvalid,ypreRnf))"
   ]
  },
  {
   "cell_type": "code",
   "execution_count": 18,
   "id": "c10745b3",
   "metadata": {},
   "outputs": [
    {
     "data": {
      "text/plain": [
       "0.055150332132819294"
      ]
     },
     "execution_count": 18,
     "metadata": {},
     "output_type": "execute_result"
    }
   ],
   "source": [
    "model=KMeans(n_clusters=2)\n",
    "model.fit(xtrain)\n",
    "adjusted_rand_score(yvalid,model.predict(xvalid))"
   ]
  },
  {
   "cell_type": "code",
   "execution_count": 19,
   "id": "c7a0ff25",
   "metadata": {},
   "outputs": [
    {
     "data": {
      "text/plain": [
       "<matplotlib.collections.PathCollection at 0x29d84d3ef40>"
      ]
     },
     "execution_count": 19,
     "metadata": {},
     "output_type": "execute_result"
    },
    {
     "data": {
      "image/png": "[encoded data removed]",
      "text/plain": [
       "<Figure size 432x288 with 1 Axes>"
      ]
     },
     "metadata": {
      "needs_background": "light"
     },
     "output_type": "display_data"
    }
   ],
   "source": [
    "plt.scatter(xtrain[:,0],xtrain[:,1],c=model.labels_)"
   ]
  },
  {
   "cell_type": "code",
   "execution_count": 20,
   "id": "85528675",
   "metadata": {},
   "outputs": [],
   "source": [
    "# یا در مواقیع که در دیتاست لیبل ها در اختیار یم باشند، روش های Clustering کاربردی دارند؟\n",
    "# توضیح دهید"
   ]
  },
  {
   "cell_type": "code",
   "execution_count": 21,
   "id": "3f638204",
   "metadata": {},
   "outputs": [],
   "source": [
    "# kheyr monaseb nist zira unsupervised models baraye time ii hastand ke label na mojud ast va khodash label tolid mikonad"
   ]
  }
 ],
 "metadata": {
  "kernelspec": {
   "display_name": "Python 3 (ipykernel)",
   "language": "python",
   "name": "python3"
  },
  "language_info": {
   "codemirror_mode": {
    "name": "ipython",
    "version": 3
   },
   "file_extension": ".py",
   "mimetype": "text/x-python",
   "name": "python",
   "nbconvert_exporter": "python",
   "pygments_lexer": "ipython3",
   "version": "3.9.12"
  }
 },
 "nbformat": 4,
 "nbformat_minor": 5
}
